{
 "cells": [
  {
   "cell_type": "code",
   "execution_count": 108,
   "metadata": {
    "collapsed": false
   },
   "outputs": [],
   "source": [
    "import numpy as np\n",
    "import pandas as pd\n",
    "from scipy.sparse import csr_matrix\n",
    "from sklearn.metrics.pairwise import pairwise_distances"
   ]
  },
  {
   "cell_type": "code",
   "execution_count": 109,
   "metadata": {
    "collapsed": false
   },
   "outputs": [],
   "source": [
    "metric = 'jaccard'\n",
    "target_user_id = 1\n",
    "target_user_id -= 1 # Convert to zero-based user Ids\n",
    "knn = 3 # Number of nearest neighbors"
   ]
  },
  {
   "cell_type": "markdown",
   "metadata": {},
   "source": [
    "# Loading datasets"
   ]
  },
  {
   "cell_type": "code",
   "execution_count": 110,
   "metadata": {
    "collapsed": true
   },
   "outputs": [],
   "source": [
    "ratings = np.loadtxt(\n",
    "  open('ratings.csv', 'rb'),\n",
    "  delimiter=',',\n",
    "  skiprows=0,\n",
    "  dtype=[('user_id', np.uint32), ('item_id', np.uint32), ('score', np.uint8)]\n",
    ")\n",
    "\n",
    "items = np.loadtxt(\n",
    "  open('items.csv', 'rb'),\n",
    "  delimiter=',',\n",
    "  skiprows=0,\n",
    "  dtype=[('item_id', np.uint32), ('name', str, 100)]\n",
    ")\n",
    "\n",
    "users = np.loadtxt(\n",
    "  open('users.csv', 'rb'),\n",
    "  delimiter=',',\n",
    "  skiprows=0,\n",
    "  dtype=[('user_id', np.uint32), ('name', np.str_, 100)]\n",
    ")"
   ]
  },
  {
   "cell_type": "code",
   "execution_count": 111,
   "metadata": {
    "collapsed": false
   },
   "outputs": [
    {
     "data": {
      "text/html": [
       "<div>\n",
       "<table border=\"1\" class=\"dataframe\">\n",
       "  <thead>\n",
       "    <tr style=\"text-align: right;\">\n",
       "      <th></th>\n",
       "      <th>item_id</th>\n",
       "      <th>name</th>\n",
       "    </tr>\n",
       "  </thead>\n",
       "  <tbody>\n",
       "    <tr>\n",
       "      <th>0</th>\n",
       "      <td>1</td>\n",
       "      <td>Diseño de logotipo (DG)</td>\n",
       "    </tr>\n",
       "    <tr>\n",
       "      <th>1</th>\n",
       "      <td>2</td>\n",
       "      <td>Busco un sitio web para un juego (IT)</td>\n",
       "    </tr>\n",
       "    <tr>\n",
       "      <th>2</th>\n",
       "      <td>3</td>\n",
       "      <td>Website para Venta de Cursos (IT)</td>\n",
       "    </tr>\n",
       "    <tr>\n",
       "      <th>3</th>\n",
       "      <td>4</td>\n",
       "      <td>Zoho Crm / Zoho Creator (IT)</td>\n",
       "    </tr>\n",
       "    <tr>\n",
       "      <th>4</th>\n",
       "      <td>5</td>\n",
       "      <td>Blog de Contenidos (IT)</td>\n",
       "    </tr>\n",
       "  </tbody>\n",
       "</table>\n",
       "</div>"
      ],
      "text/plain": [
       "   item_id                                   name\n",
       "0        1                Diseño de logotipo (DG)\n",
       "1        2  Busco un sitio web para un juego (IT)\n",
       "2        3      Website para Venta de Cursos (IT)\n",
       "3        4           Zoho Crm / Zoho Creator (IT)\n",
       "4        5                Blog de Contenidos (IT)"
      ]
     },
     "execution_count": 111,
     "metadata": {},
     "output_type": "execute_result"
    }
   ],
   "source": [
    "pd.DataFrame(items).head(5)"
   ]
  },
  {
   "cell_type": "code",
   "execution_count": 112,
   "metadata": {
    "collapsed": false
   },
   "outputs": [
    {
     "data": {
      "text/html": [
       "<div>\n",
       "<table border=\"1\" class=\"dataframe\">\n",
       "  <thead>\n",
       "    <tr style=\"text-align: right;\">\n",
       "      <th></th>\n",
       "      <th>user_id</th>\n",
       "      <th>name</th>\n",
       "    </tr>\n",
       "  </thead>\n",
       "  <tbody>\n",
       "    <tr>\n",
       "      <th>0</th>\n",
       "      <td>1</td>\n",
       "      <td>Jack Roy (IT)</td>\n",
       "    </tr>\n",
       "    <tr>\n",
       "      <th>1</th>\n",
       "      <td>2</td>\n",
       "      <td>Colorado Wood (DG)</td>\n",
       "    </tr>\n",
       "    <tr>\n",
       "      <th>2</th>\n",
       "      <td>3</td>\n",
       "      <td>Hamish Mccormick (DG)</td>\n",
       "    </tr>\n",
       "    <tr>\n",
       "      <th>3</th>\n",
       "      <td>4</td>\n",
       "      <td>Graham Jacobs (IT)</td>\n",
       "    </tr>\n",
       "    <tr>\n",
       "      <th>4</th>\n",
       "      <td>5</td>\n",
       "      <td>Caesar Mcgowan (DG)</td>\n",
       "    </tr>\n",
       "  </tbody>\n",
       "</table>\n",
       "</div>"
      ],
      "text/plain": [
       "   user_id                   name\n",
       "0        1          Jack Roy (IT)\n",
       "1        2     Colorado Wood (DG)\n",
       "2        3  Hamish Mccormick (DG)\n",
       "3        4     Graham Jacobs (IT)\n",
       "4        5    Caesar Mcgowan (DG)"
      ]
     },
     "execution_count": 112,
     "metadata": {},
     "output_type": "execute_result"
    }
   ],
   "source": [
    "pd.DataFrame(users).head(5)"
   ]
  },
  {
   "cell_type": "code",
   "execution_count": 113,
   "metadata": {
    "collapsed": false
   },
   "outputs": [
    {
     "data": {
      "text/html": [
       "<div>\n",
       "<table border=\"1\" class=\"dataframe\">\n",
       "  <thead>\n",
       "    <tr style=\"text-align: right;\">\n",
       "      <th></th>\n",
       "      <th>user_id</th>\n",
       "      <th>item_id</th>\n",
       "      <th>score</th>\n",
       "    </tr>\n",
       "  </thead>\n",
       "  <tbody>\n",
       "    <tr>\n",
       "      <th>0</th>\n",
       "      <td>1</td>\n",
       "      <td>2</td>\n",
       "      <td>1</td>\n",
       "    </tr>\n",
       "    <tr>\n",
       "      <th>1</th>\n",
       "      <td>1</td>\n",
       "      <td>3</td>\n",
       "      <td>2</td>\n",
       "    </tr>\n",
       "    <tr>\n",
       "      <th>2</th>\n",
       "      <td>1</td>\n",
       "      <td>4</td>\n",
       "      <td>2</td>\n",
       "    </tr>\n",
       "    <tr>\n",
       "      <th>3</th>\n",
       "      <td>1</td>\n",
       "      <td>5</td>\n",
       "      <td>1</td>\n",
       "    </tr>\n",
       "    <tr>\n",
       "      <th>4</th>\n",
       "      <td>2</td>\n",
       "      <td>1</td>\n",
       "      <td>2</td>\n",
       "    </tr>\n",
       "  </tbody>\n",
       "</table>\n",
       "</div>"
      ],
      "text/plain": [
       "   user_id  item_id  score\n",
       "0        1        2      1\n",
       "1        1        3      2\n",
       "2        1        4      2\n",
       "3        1        5      1\n",
       "4        2        1      2"
      ]
     },
     "execution_count": 113,
     "metadata": {},
     "output_type": "execute_result"
    }
   ],
   "source": [
    "pd.DataFrame(ratings).head(5)"
   ]
  },
  {
   "cell_type": "code",
   "execution_count": 114,
   "metadata": {
    "collapsed": false
   },
   "outputs": [
    {
     "name": "stdout",
     "output_type": "stream",
     "text": [
      "There are 35 ratings.\n",
      "There are 10 users.\n",
      "There are 10 items.\n",
      "Fetching recommendations for user \"Jack Roy (IT)\" (ID: 1)\n"
     ]
    }
   ],
   "source": [
    "print 'There are %d ratings.' % len(ratings)\n",
    "print 'There are %d users.' % len(users)\n",
    "print 'There are %d items.' % len(items)\n",
    "print 'Fetching recommendations for user \"%s\" (ID: %d)' % (users[target_user_id]['name'], users[target_user_id]['user_id'])"
   ]
  },
  {
   "cell_type": "code",
   "execution_count": 115,
   "metadata": {
    "collapsed": false
   },
   "outputs": [
    {
     "name": "stdout",
     "output_type": "stream",
     "text": [
      "Fetching recommendations for:\n"
     ]
    },
    {
     "data": {
      "text/html": [
       "<div>\n",
       "<table border=\"1\" class=\"dataframe\">\n",
       "  <thead>\n",
       "    <tr style=\"text-align: right;\">\n",
       "      <th></th>\n",
       "      <th>Name</th>\n",
       "    </tr>\n",
       "  </thead>\n",
       "  <tbody>\n",
       "    <tr>\n",
       "      <th>1</th>\n",
       "      <td>Jack Roy (IT)</td>\n",
       "    </tr>\n",
       "  </tbody>\n",
       "</table>\n",
       "</div>"
      ],
      "text/plain": [
       "            Name\n",
       "1  Jack Roy (IT)"
      ]
     },
     "execution_count": 115,
     "metadata": {},
     "output_type": "execute_result"
    }
   ],
   "source": [
    "print 'Fetching recommendations for:'\n",
    "pd.DataFrame([[users[target_user_id]['name']]], index=[users[target_user_id]['user_id']], columns=['Name'])"
   ]
  },
  {
   "cell_type": "markdown",
   "metadata": {},
   "source": [
    "# Converting sparse data"
   ]
  },
  {
   "cell_type": "code",
   "execution_count": 116,
   "metadata": {
    "collapsed": false
   },
   "outputs": [
    {
     "name": "stdout",
     "output_type": "stream",
     "text": [
      "    1   2   3   4   5   6   7   8   9   10\n",
      "1    0   1   2   2   1   0   0   0   0   0\n",
      "2    2   0   0   0   0   1   2   1   0   2\n",
      "3    0   0   0   0   0   1   2   1   2   2\n",
      "4    0   0   2   1   0   0   0   0   0   0\n",
      "5    2   0   0   0   0   2   2   0   0   1\n",
      "6    0   0   0   0   0   2   1   0   2   1\n",
      "7    1   0   0   0   0   2   0   0   0   0\n",
      "8    0   2   1   2   2   0   0   0   0   0\n",
      "9    0   0   2   0   1   0   0   0   0   0\n",
      "10   0   0   1   2   1   0   0   0   0   0\n"
     ]
    }
   ],
   "source": [
    "# Create sparse matrix from ratings\n",
    "sparse_ratings = csr_matrix(\n",
    "    (ratings['score'], (ratings['user_id'] - 1, ratings['item_id'] - 1)),\n",
    "    shape=(max(ratings['user_id']), max(ratings['item_id'])),\n",
    "    dtype=np.uint32\n",
    ")\n",
    "\n",
    "print pd.DataFrame(sparse_ratings.todense(), index=np.unique(ratings['user_id']), columns=np.unique(ratings['item_id']))"
   ]
  },
  {
   "cell_type": "markdown",
   "metadata": {},
   "source": [
    "# Users similarity matrix"
   ]
  },
  {
   "cell_type": "code",
   "execution_count": 117,
   "metadata": {
    "collapsed": false
   },
   "outputs": [
    {
     "data": {
      "text/html": [
       "<div>\n",
       "<table border=\"1\" class=\"dataframe\">\n",
       "  <thead>\n",
       "    <tr style=\"text-align: right;\">\n",
       "      <th></th>\n",
       "      <th>1</th>\n",
       "      <th>2</th>\n",
       "      <th>3</th>\n",
       "      <th>4</th>\n",
       "      <th>5</th>\n",
       "      <th>6</th>\n",
       "      <th>7</th>\n",
       "      <th>8</th>\n",
       "      <th>9</th>\n",
       "      <th>10</th>\n",
       "    </tr>\n",
       "  </thead>\n",
       "  <tbody>\n",
       "    <tr>\n",
       "      <th>1</th>\n",
       "      <td>1.0000</td>\n",
       "      <td>0.0000</td>\n",
       "      <td>0.0000</td>\n",
       "      <td>0.2500</td>\n",
       "      <td>0.0000</td>\n",
       "      <td>0.0000</td>\n",
       "      <td>0.0000</td>\n",
       "      <td>0.2500</td>\n",
       "      <td>0.5000</td>\n",
       "      <td>0.5000</td>\n",
       "    </tr>\n",
       "    <tr>\n",
       "      <th>2</th>\n",
       "      <td>0.0000</td>\n",
       "      <td>1.0000</td>\n",
       "      <td>0.6667</td>\n",
       "      <td>0.0000</td>\n",
       "      <td>0.4000</td>\n",
       "      <td>0.0000</td>\n",
       "      <td>0.0000</td>\n",
       "      <td>0.0000</td>\n",
       "      <td>0.0000</td>\n",
       "      <td>0.0000</td>\n",
       "    </tr>\n",
       "    <tr>\n",
       "      <th>3</th>\n",
       "      <td>0.0000</td>\n",
       "      <td>0.6667</td>\n",
       "      <td>1.0000</td>\n",
       "      <td>0.0000</td>\n",
       "      <td>0.1667</td>\n",
       "      <td>0.2000</td>\n",
       "      <td>0.0000</td>\n",
       "      <td>0.0000</td>\n",
       "      <td>0.0000</td>\n",
       "      <td>0.0000</td>\n",
       "    </tr>\n",
       "    <tr>\n",
       "      <th>4</th>\n",
       "      <td>0.2500</td>\n",
       "      <td>0.0000</td>\n",
       "      <td>0.0000</td>\n",
       "      <td>1.0000</td>\n",
       "      <td>0.0000</td>\n",
       "      <td>0.0000</td>\n",
       "      <td>0.0000</td>\n",
       "      <td>0.0000</td>\n",
       "      <td>0.3333</td>\n",
       "      <td>0.0000</td>\n",
       "    </tr>\n",
       "    <tr>\n",
       "      <th>5</th>\n",
       "      <td>0.0000</td>\n",
       "      <td>0.4000</td>\n",
       "      <td>0.1667</td>\n",
       "      <td>0.0000</td>\n",
       "      <td>1.0000</td>\n",
       "      <td>0.4000</td>\n",
       "      <td>0.2500</td>\n",
       "      <td>0.0000</td>\n",
       "      <td>0.0000</td>\n",
       "      <td>0.0000</td>\n",
       "    </tr>\n",
       "    <tr>\n",
       "      <th>6</th>\n",
       "      <td>0.0000</td>\n",
       "      <td>0.0000</td>\n",
       "      <td>0.2000</td>\n",
       "      <td>0.0000</td>\n",
       "      <td>0.4000</td>\n",
       "      <td>1.0000</td>\n",
       "      <td>0.2000</td>\n",
       "      <td>0.0000</td>\n",
       "      <td>0.0000</td>\n",
       "      <td>0.0000</td>\n",
       "    </tr>\n",
       "    <tr>\n",
       "      <th>7</th>\n",
       "      <td>0.0000</td>\n",
       "      <td>0.0000</td>\n",
       "      <td>0.0000</td>\n",
       "      <td>0.0000</td>\n",
       "      <td>0.2500</td>\n",
       "      <td>0.2000</td>\n",
       "      <td>1.0000</td>\n",
       "      <td>0.0000</td>\n",
       "      <td>0.0000</td>\n",
       "      <td>0.0000</td>\n",
       "    </tr>\n",
       "    <tr>\n",
       "      <th>8</th>\n",
       "      <td>0.2500</td>\n",
       "      <td>0.0000</td>\n",
       "      <td>0.0000</td>\n",
       "      <td>0.0000</td>\n",
       "      <td>0.0000</td>\n",
       "      <td>0.0000</td>\n",
       "      <td>0.0000</td>\n",
       "      <td>1.0000</td>\n",
       "      <td>0.0000</td>\n",
       "      <td>0.5000</td>\n",
       "    </tr>\n",
       "    <tr>\n",
       "      <th>9</th>\n",
       "      <td>0.5000</td>\n",
       "      <td>0.0000</td>\n",
       "      <td>0.0000</td>\n",
       "      <td>0.3333</td>\n",
       "      <td>0.0000</td>\n",
       "      <td>0.0000</td>\n",
       "      <td>0.0000</td>\n",
       "      <td>0.0000</td>\n",
       "      <td>1.0000</td>\n",
       "      <td>0.3333</td>\n",
       "    </tr>\n",
       "    <tr>\n",
       "      <th>10</th>\n",
       "      <td>0.5000</td>\n",
       "      <td>0.0000</td>\n",
       "      <td>0.0000</td>\n",
       "      <td>0.0000</td>\n",
       "      <td>0.0000</td>\n",
       "      <td>0.0000</td>\n",
       "      <td>0.0000</td>\n",
       "      <td>0.5000</td>\n",
       "      <td>0.3333</td>\n",
       "      <td>1.0000</td>\n",
       "    </tr>\n",
       "  </tbody>\n",
       "</table>\n",
       "</div>"
      ],
      "text/plain": [
       "       1      2      3      4      5      6      7      8      9      10\n",
       "1  1.0000 0.0000 0.0000 0.2500 0.0000 0.0000 0.0000 0.2500 0.5000 0.5000\n",
       "2  0.0000 1.0000 0.6667 0.0000 0.4000 0.0000 0.0000 0.0000 0.0000 0.0000\n",
       "3  0.0000 0.6667 1.0000 0.0000 0.1667 0.2000 0.0000 0.0000 0.0000 0.0000\n",
       "4  0.2500 0.0000 0.0000 1.0000 0.0000 0.0000 0.0000 0.0000 0.3333 0.0000\n",
       "5  0.0000 0.4000 0.1667 0.0000 1.0000 0.4000 0.2500 0.0000 0.0000 0.0000\n",
       "6  0.0000 0.0000 0.2000 0.0000 0.4000 1.0000 0.2000 0.0000 0.0000 0.0000\n",
       "7  0.0000 0.0000 0.0000 0.0000 0.2500 0.2000 1.0000 0.0000 0.0000 0.0000\n",
       "8  0.2500 0.0000 0.0000 0.0000 0.0000 0.0000 0.0000 1.0000 0.0000 0.5000\n",
       "9  0.5000 0.0000 0.0000 0.3333 0.0000 0.0000 0.0000 0.0000 1.0000 0.3333\n",
       "10 0.5000 0.0000 0.0000 0.0000 0.0000 0.0000 0.0000 0.5000 0.3333 1.0000"
      ]
     },
     "execution_count": 117,
     "metadata": {},
     "output_type": "execute_result"
    }
   ],
   "source": [
    "# Build distance matrix\n",
    "distances = 1 - pairwise_distances(sparse_ratings.todense(), metric=metric)\n",
    "\n",
    "# Print matrix\n",
    "pd.options.display.float_format = '{:,.4f}'.format\n",
    "pd.DataFrame(distances, index=np.unique(ratings['user_id']), columns=np.unique(ratings['user_id']))"
   ]
  },
  {
   "cell_type": "markdown",
   "metadata": {},
   "source": [
    "# Get nearest neighbors"
   ]
  },
  {
   "cell_type": "code",
   "execution_count": 118,
   "metadata": {
    "collapsed": false
   },
   "outputs": [
    {
     "name": "stdout",
     "output_type": "stream",
     "text": [
      "Nearest neighbors are:\n"
     ]
    },
    {
     "data": {
      "text/html": [
       "<div>\n",
       "<table border=\"1\" class=\"dataframe\">\n",
       "  <thead>\n",
       "    <tr style=\"text-align: right;\">\n",
       "      <th></th>\n",
       "      <th>name</th>\n",
       "      <th>user_id</th>\n",
       "      <th>distance</th>\n",
       "    </tr>\n",
       "  </thead>\n",
       "  <tbody>\n",
       "    <tr>\n",
       "      <th>0</th>\n",
       "      <td>Callum Acosta (IT)</td>\n",
       "      <td>10</td>\n",
       "      <td>0.5000</td>\n",
       "    </tr>\n",
       "    <tr>\n",
       "      <th>1</th>\n",
       "      <td>Kenyon Mooney (IT)</td>\n",
       "      <td>9</td>\n",
       "      <td>0.5000</td>\n",
       "    </tr>\n",
       "  </tbody>\n",
       "</table>\n",
       "</div>"
      ],
      "text/plain": [
       "                 name  user_id  distance\n",
       "0  Callum Acosta (IT)       10    0.5000\n",
       "1  Kenyon Mooney (IT)        9    0.5000"
      ]
     },
     "execution_count": 118,
     "metadata": {},
     "output_type": "execute_result"
    }
   ],
   "source": [
    "nearest_neighbors = np.argsort(distances[target_user_id])[::-1][:knn]\n",
    "nearest_neighbors = nearest_neighbors[nearest_neighbors != target_user_id]\n",
    "\n",
    "similarity_sum = 0\n",
    "for user_id in nearest_neighbors:\n",
    "  similarity_sum += distances[target_user_id, user_id]\n",
    "\n",
    "print 'Nearest neighbors are:'\n",
    "\n",
    "pd.DataFrame(\n",
    "    [(users[user_id]['name'], users[user_id]['user_id'], distances[target_user_id, user_id]) for user_id in nearest_neighbors],\n",
    "    columns=['name', 'user_id', 'distance']\n",
    ")"
   ]
  },
  {
   "cell_type": "markdown",
   "metadata": {},
   "source": [
    "# Get recomendations"
   ]
  },
  {
   "cell_type": "code",
   "execution_count": 119,
   "metadata": {
    "collapsed": false
   },
   "outputs": [
    {
     "data": {
      "text/html": [
       "<div>\n",
       "<table border=\"1\" class=\"dataframe\">\n",
       "  <thead>\n",
       "    <tr style=\"text-align: right;\">\n",
       "      <th></th>\n",
       "      <th>Name</th>\n",
       "      <th>Score</th>\n",
       "    </tr>\n",
       "  </thead>\n",
       "  <tbody>\n",
       "    <tr>\n",
       "      <th>1</th>\n",
       "      <td>Website para Venta de Cursos (IT)</td>\n",
       "      <td>1.50000</td>\n",
       "    </tr>\n",
       "    <tr>\n",
       "      <th>2</th>\n",
       "      <td>Blog de Contenidos (IT)</td>\n",
       "      <td>1.00000</td>\n",
       "    </tr>\n",
       "    <tr>\n",
       "      <th>3</th>\n",
       "      <td>Zoho Crm / Zoho Creator (IT)</td>\n",
       "      <td>1.00000</td>\n",
       "    </tr>\n",
       "  </tbody>\n",
       "</table>\n",
       "</div>"
      ],
      "text/plain": [
       "                                Name   Score\n",
       "1  Website para Venta de Cursos (IT) 1.50000\n",
       "2            Blog de Contenidos (IT) 1.00000\n",
       "3       Zoho Crm / Zoho Creator (IT) 1.00000"
      ]
     },
     "execution_count": 119,
     "metadata": {},
     "output_type": "execute_result"
    }
   ],
   "source": [
    "# Get items the nearest neighbors liked and the user didn't\n",
    "ratings_subset = ratings[\n",
    "    np.in1d(\n",
    "        ratings['user_id'],\n",
    "        nearest_neighbors + 1 # correct zero-based\n",
    "    )\n",
    "]\n",
    "\n",
    "temp = np.zeros((ratings_subset.shape[0], 4)) # user_id, item_id, score, ranking\n",
    "temp[:, 0] = ratings_subset['user_id']\n",
    "temp[:, 1] = ratings_subset['item_id']\n",
    "temp[:, 2] = ratings_subset['score']\n",
    "\n",
    "for user_id in nearest_neighbors:\n",
    "  # Multiply action weight * user similary\n",
    "  temp[temp[:, 0] == user_id + 1, 3] += distances[target_user_id, user_id] * temp[temp[:, 0] == user_id + 1, 2]\n",
    "\n",
    "unique_items = np.unique(temp[:, 1].astype(np.uint32))\n",
    "scores = np.zeros((unique_items.size, 3))\n",
    "scores[:, 0] = np.array(unique_items)\n",
    "\n",
    "for item in unique_items:\n",
    "    # (sum match similarity / similarity sum) * time decay\n",
    "    scores[scores[:, 0] == item, 1] = (\n",
    "        temp[temp[:, 1] == item][:, 3].sum() / similarity_sum\n",
    "    )\n",
    "\n",
    "sorted_scores = scores[np.argsort(scores[:, 1])[::-1]]\n",
    "sorted_scores[:, 2] = np.arange(sorted_scores[:, 0].size) + 1\n",
    "\n",
    "pd.options.display.float_format = '{:,.5f}'.format\n",
    "pd.DataFrame(\n",
    "    [(items[row[0] - 1]['name'], row[1]) for index, row in enumerate(sorted_scores)],\n",
    "    index=sorted_scores[:, 2].astype(int),\n",
    "    columns=['Name', 'Score']\n",
    ")"
   ]
  }
 ],
 "metadata": {
  "kernelspec": {
   "display_name": "Python 2",
   "language": "python",
   "name": "python2"
  },
  "language_info": {
   "codemirror_mode": {
    "name": "ipython",
    "version": 2
   },
   "file_extension": ".py",
   "mimetype": "text/x-python",
   "name": "python",
   "nbconvert_exporter": "python",
   "pygments_lexer": "ipython2",
   "version": "2.7.10"
  }
 },
 "nbformat": 4,
 "nbformat_minor": 0
}
